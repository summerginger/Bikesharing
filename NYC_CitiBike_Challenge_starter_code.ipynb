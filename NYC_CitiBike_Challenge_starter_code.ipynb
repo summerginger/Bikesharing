{
 "cells": [
  {
   "cell_type": "code",
   "execution_count": 60,
   "metadata": {},
   "outputs": [],
   "source": [
    "import pandas as pd"
   ]
  },
  {
   "cell_type": "code",
   "execution_count": 61,
   "metadata": {},
   "outputs": [],
   "source": [
    "# 1. Create a DataFrame for the 201908-citibike-tripdata data. \n",
    "df = pd.read_csv(\"challenge.csv\")"
   ]
  },
  {
   "cell_type": "code",
   "execution_count": 62,
   "metadata": {},
   "outputs": [
    {
     "output_type": "execute_result",
     "data": {
      "text/plain": [
       "   Birth Year            End Station Name            Start Station Name  \\\n",
       "0        1992              Great Jones St               E 48 St & 5 Ave   \n",
       "1        1994      Forsyth St & Broome St  Meserole Ave & Manhattan Ave   \n",
       "2        1992        Henry St & Degraw St         Carroll St & Smith St   \n",
       "3        1959  W Broadway & Spring Street               W 27 St & 7 Ave   \n",
       "4        1964          W 42 St & Dyer Ave               6 Ave & W 33 St   \n",
       "\n",
       "               Starttime               Stoptime    Usertype  Bikeid  \\\n",
       "0  2019-08-01 6:44:52 PM  2019-08-01 7:09:26 PM  Subscriber   29904   \n",
       "1  2019-08-01 6:44:53 PM  2019-08-01 7:15:11 PM    Customer   39267   \n",
       "2  2019-08-01 6:44:53 PM  2019-08-01 6:51:04 PM  Subscriber   16390   \n",
       "3  2019-08-01 6:44:53 PM  2019-08-01 7:00:01 PM  Subscriber   39891   \n",
       "4  2019-08-01 6:44:53 PM  2019-08-01 7:18:51 PM  Subscriber   19481   \n",
       "\n",
       "   End Station Id  End Station Latitude  End Station Longitude  Gender  \\\n",
       "0           229.0             40.727434             -73.993790       1   \n",
       "1           531.0             40.718939             -73.992663       2   \n",
       "2          3315.0             40.684751             -73.999173       1   \n",
       "3          3467.0             40.724947             -74.001659       1   \n",
       "4          3236.0             40.758985             -73.993800       1   \n",
       "\n",
       "   Start Station Id  Start Station Latitude  Start Station Longitude  \\\n",
       "0            3233.0               40.757246               -73.978059   \n",
       "1            3110.0               40.727086               -73.952991   \n",
       "2            3382.0               40.680611               -73.994758   \n",
       "3             442.0               40.746647               -73.993915   \n",
       "4             505.0               40.749013               -73.988484   \n",
       "\n",
       "   Tripduration  \n",
       "0          1473  \n",
       "1          1818  \n",
       "2           371  \n",
       "3           908  \n",
       "4          2038  "
      ],
      "text/html": "<div>\n<style scoped>\n    .dataframe tbody tr th:only-of-type {\n        vertical-align: middle;\n    }\n\n    .dataframe tbody tr th {\n        vertical-align: top;\n    }\n\n    .dataframe thead th {\n        text-align: right;\n    }\n</style>\n<table border=\"1\" class=\"dataframe\">\n  <thead>\n    <tr style=\"text-align: right;\">\n      <th></th>\n      <th>Birth Year</th>\n      <th>End Station Name</th>\n      <th>Start Station Name</th>\n      <th>Starttime</th>\n      <th>Stoptime</th>\n      <th>Usertype</th>\n      <th>Bikeid</th>\n      <th>End Station Id</th>\n      <th>End Station Latitude</th>\n      <th>End Station Longitude</th>\n      <th>Gender</th>\n      <th>Start Station Id</th>\n      <th>Start Station Latitude</th>\n      <th>Start Station Longitude</th>\n      <th>Tripduration</th>\n    </tr>\n  </thead>\n  <tbody>\n    <tr>\n      <th>0</th>\n      <td>1992</td>\n      <td>Great Jones St</td>\n      <td>E 48 St &amp; 5 Ave</td>\n      <td>2019-08-01 6:44:52 PM</td>\n      <td>2019-08-01 7:09:26 PM</td>\n      <td>Subscriber</td>\n      <td>29904</td>\n      <td>229.0</td>\n      <td>40.727434</td>\n      <td>-73.993790</td>\n      <td>1</td>\n      <td>3233.0</td>\n      <td>40.757246</td>\n      <td>-73.978059</td>\n      <td>1473</td>\n    </tr>\n    <tr>\n      <th>1</th>\n      <td>1994</td>\n      <td>Forsyth St &amp; Broome St</td>\n      <td>Meserole Ave &amp; Manhattan Ave</td>\n      <td>2019-08-01 6:44:53 PM</td>\n      <td>2019-08-01 7:15:11 PM</td>\n      <td>Customer</td>\n      <td>39267</td>\n      <td>531.0</td>\n      <td>40.718939</td>\n      <td>-73.992663</td>\n      <td>2</td>\n      <td>3110.0</td>\n      <td>40.727086</td>\n      <td>-73.952991</td>\n      <td>1818</td>\n    </tr>\n    <tr>\n      <th>2</th>\n      <td>1992</td>\n      <td>Henry St &amp; Degraw St</td>\n      <td>Carroll St &amp; Smith St</td>\n      <td>2019-08-01 6:44:53 PM</td>\n      <td>2019-08-01 6:51:04 PM</td>\n      <td>Subscriber</td>\n      <td>16390</td>\n      <td>3315.0</td>\n      <td>40.684751</td>\n      <td>-73.999173</td>\n      <td>1</td>\n      <td>3382.0</td>\n      <td>40.680611</td>\n      <td>-73.994758</td>\n      <td>371</td>\n    </tr>\n    <tr>\n      <th>3</th>\n      <td>1959</td>\n      <td>W Broadway &amp; Spring Street</td>\n      <td>W 27 St &amp; 7 Ave</td>\n      <td>2019-08-01 6:44:53 PM</td>\n      <td>2019-08-01 7:00:01 PM</td>\n      <td>Subscriber</td>\n      <td>39891</td>\n      <td>3467.0</td>\n      <td>40.724947</td>\n      <td>-74.001659</td>\n      <td>1</td>\n      <td>442.0</td>\n      <td>40.746647</td>\n      <td>-73.993915</td>\n      <td>908</td>\n    </tr>\n    <tr>\n      <th>4</th>\n      <td>1964</td>\n      <td>W 42 St &amp; Dyer Ave</td>\n      <td>6 Ave &amp; W 33 St</td>\n      <td>2019-08-01 6:44:53 PM</td>\n      <td>2019-08-01 7:18:51 PM</td>\n      <td>Subscriber</td>\n      <td>19481</td>\n      <td>3236.0</td>\n      <td>40.758985</td>\n      <td>-73.993800</td>\n      <td>1</td>\n      <td>505.0</td>\n      <td>40.749013</td>\n      <td>-73.988484</td>\n      <td>2038</td>\n    </tr>\n  </tbody>\n</table>\n</div>"
     },
     "metadata": {},
     "execution_count": 62
    }
   ],
   "source": [
    "# 2. Check the datatypes of your columns. \n",
    "df.head(5)"
   ]
  },
  {
   "cell_type": "code",
   "execution_count": 63,
   "metadata": {},
   "outputs": [
    {
     "output_type": "execute_result",
     "data": {
      "text/plain": [
       "0          1473\n",
       "1          1818\n",
       "2           371\n",
       "3           908\n",
       "4          2038\n",
       "           ... \n",
       "1863392     265\n",
       "1863393     438\n",
       "1863394     316\n",
       "1863395     375\n",
       "1863396     735\n",
       "Name: Tripduration, Length: 1863397, dtype: int64"
      ]
     },
     "metadata": {},
     "execution_count": 63
    }
   ],
   "source": [
    "df['Tripduration']"
   ]
  },
  {
   "cell_type": "code",
   "execution_count": 64,
   "metadata": {},
   "outputs": [
    {
     "output_type": "execute_result",
     "data": {
      "text/plain": [
       "0         1970-01-01 00:24:33\n",
       "1         1970-01-01 00:30:18\n",
       "2         1970-01-01 00:06:11\n",
       "3         1970-01-01 00:15:08\n",
       "4         1970-01-01 00:33:58\n",
       "                  ...        \n",
       "1863392   1970-01-01 00:04:25\n",
       "1863393   1970-01-01 00:07:18\n",
       "1863394   1970-01-01 00:05:16\n",
       "1863395   1970-01-01 00:06:15\n",
       "1863396   1970-01-01 00:12:15\n",
       "Name: Tripduration, Length: 1863397, dtype: datetime64[ns]"
      ]
     },
     "metadata": {},
     "execution_count": 64
    }
   ],
   "source": [
    "# 3. Convert the 'tripduration' column to datetime datatype.\n",
    "tripduration = pd.to_datetime(df['Tripduration'],unit = \"s\")\n",
    "tripduration"
   ]
  },
  {
   "cell_type": "code",
   "execution_count": 65,
   "metadata": {},
   "outputs": [
    {
     "output_type": "execute_result",
     "data": {
      "text/plain": [
       "   Birth Year            End Station Name            Start Station Name  \\\n",
       "0        1992              Great Jones St               E 48 St & 5 Ave   \n",
       "1        1994      Forsyth St & Broome St  Meserole Ave & Manhattan Ave   \n",
       "2        1992        Henry St & Degraw St         Carroll St & Smith St   \n",
       "3        1959  W Broadway & Spring Street               W 27 St & 7 Ave   \n",
       "4        1964          W 42 St & Dyer Ave               6 Ave & W 33 St   \n",
       "\n",
       "               Starttime               Stoptime    Usertype  Bikeid  \\\n",
       "0  2019-08-01 6:44:52 PM  2019-08-01 7:09:26 PM  Subscriber   29904   \n",
       "1  2019-08-01 6:44:53 PM  2019-08-01 7:15:11 PM    Customer   39267   \n",
       "2  2019-08-01 6:44:53 PM  2019-08-01 6:51:04 PM  Subscriber   16390   \n",
       "3  2019-08-01 6:44:53 PM  2019-08-01 7:00:01 PM  Subscriber   39891   \n",
       "4  2019-08-01 6:44:53 PM  2019-08-01 7:18:51 PM  Subscriber   19481   \n",
       "\n",
       "   End Station Id  End Station Latitude  End Station Longitude  Gender  \\\n",
       "0           229.0             40.727434             -73.993790       1   \n",
       "1           531.0             40.718939             -73.992663       2   \n",
       "2          3315.0             40.684751             -73.999173       1   \n",
       "3          3467.0             40.724947             -74.001659       1   \n",
       "4          3236.0             40.758985             -73.993800       1   \n",
       "\n",
       "   Start Station Id  Start Station Latitude  Start Station Longitude  \\\n",
       "0            3233.0               40.757246               -73.978059   \n",
       "1            3110.0               40.727086               -73.952991   \n",
       "2            3382.0               40.680611               -73.994758   \n",
       "3             442.0               40.746647               -73.993915   \n",
       "4             505.0               40.749013               -73.988484   \n",
       "\n",
       "         Tripduration  \n",
       "0 1970-01-01 00:24:33  \n",
       "1 1970-01-01 00:30:18  \n",
       "2 1970-01-01 00:06:11  \n",
       "3 1970-01-01 00:15:08  \n",
       "4 1970-01-01 00:33:58  "
      ],
      "text/html": "<div>\n<style scoped>\n    .dataframe tbody tr th:only-of-type {\n        vertical-align: middle;\n    }\n\n    .dataframe tbody tr th {\n        vertical-align: top;\n    }\n\n    .dataframe thead th {\n        text-align: right;\n    }\n</style>\n<table border=\"1\" class=\"dataframe\">\n  <thead>\n    <tr style=\"text-align: right;\">\n      <th></th>\n      <th>Birth Year</th>\n      <th>End Station Name</th>\n      <th>Start Station Name</th>\n      <th>Starttime</th>\n      <th>Stoptime</th>\n      <th>Usertype</th>\n      <th>Bikeid</th>\n      <th>End Station Id</th>\n      <th>End Station Latitude</th>\n      <th>End Station Longitude</th>\n      <th>Gender</th>\n      <th>Start Station Id</th>\n      <th>Start Station Latitude</th>\n      <th>Start Station Longitude</th>\n      <th>Tripduration</th>\n    </tr>\n  </thead>\n  <tbody>\n    <tr>\n      <th>0</th>\n      <td>1992</td>\n      <td>Great Jones St</td>\n      <td>E 48 St &amp; 5 Ave</td>\n      <td>2019-08-01 6:44:52 PM</td>\n      <td>2019-08-01 7:09:26 PM</td>\n      <td>Subscriber</td>\n      <td>29904</td>\n      <td>229.0</td>\n      <td>40.727434</td>\n      <td>-73.993790</td>\n      <td>1</td>\n      <td>3233.0</td>\n      <td>40.757246</td>\n      <td>-73.978059</td>\n      <td>1970-01-01 00:24:33</td>\n    </tr>\n    <tr>\n      <th>1</th>\n      <td>1994</td>\n      <td>Forsyth St &amp; Broome St</td>\n      <td>Meserole Ave &amp; Manhattan Ave</td>\n      <td>2019-08-01 6:44:53 PM</td>\n      <td>2019-08-01 7:15:11 PM</td>\n      <td>Customer</td>\n      <td>39267</td>\n      <td>531.0</td>\n      <td>40.718939</td>\n      <td>-73.992663</td>\n      <td>2</td>\n      <td>3110.0</td>\n      <td>40.727086</td>\n      <td>-73.952991</td>\n      <td>1970-01-01 00:30:18</td>\n    </tr>\n    <tr>\n      <th>2</th>\n      <td>1992</td>\n      <td>Henry St &amp; Degraw St</td>\n      <td>Carroll St &amp; Smith St</td>\n      <td>2019-08-01 6:44:53 PM</td>\n      <td>2019-08-01 6:51:04 PM</td>\n      <td>Subscriber</td>\n      <td>16390</td>\n      <td>3315.0</td>\n      <td>40.684751</td>\n      <td>-73.999173</td>\n      <td>1</td>\n      <td>3382.0</td>\n      <td>40.680611</td>\n      <td>-73.994758</td>\n      <td>1970-01-01 00:06:11</td>\n    </tr>\n    <tr>\n      <th>3</th>\n      <td>1959</td>\n      <td>W Broadway &amp; Spring Street</td>\n      <td>W 27 St &amp; 7 Ave</td>\n      <td>2019-08-01 6:44:53 PM</td>\n      <td>2019-08-01 7:00:01 PM</td>\n      <td>Subscriber</td>\n      <td>39891</td>\n      <td>3467.0</td>\n      <td>40.724947</td>\n      <td>-74.001659</td>\n      <td>1</td>\n      <td>442.0</td>\n      <td>40.746647</td>\n      <td>-73.993915</td>\n      <td>1970-01-01 00:15:08</td>\n    </tr>\n    <tr>\n      <th>4</th>\n      <td>1964</td>\n      <td>W 42 St &amp; Dyer Ave</td>\n      <td>6 Ave &amp; W 33 St</td>\n      <td>2019-08-01 6:44:53 PM</td>\n      <td>2019-08-01 7:18:51 PM</td>\n      <td>Subscriber</td>\n      <td>19481</td>\n      <td>3236.0</td>\n      <td>40.758985</td>\n      <td>-73.993800</td>\n      <td>1</td>\n      <td>505.0</td>\n      <td>40.749013</td>\n      <td>-73.988484</td>\n      <td>1970-01-01 00:33:58</td>\n    </tr>\n  </tbody>\n</table>\n</div>"
     },
     "metadata": {},
     "execution_count": 65
    }
   ],
   "source": [
    "df['Tripduration'] = tripduration\n",
    "df.head(5)"
   ]
  },
  {
   "cell_type": "code",
   "execution_count": 66,
   "metadata": {},
   "outputs": [
    {
     "output_type": "execute_result",
     "data": {
      "text/plain": [
       "Birth Year                          int64\n",
       "End Station Name                   object\n",
       "Start Station Name                 object\n",
       "Starttime                          object\n",
       "Stoptime                           object\n",
       "Usertype                           object\n",
       "Bikeid                              int64\n",
       "End Station Id                    float64\n",
       "End Station Latitude              float64\n",
       "End Station Longitude             float64\n",
       "Gender                              int64\n",
       "Start Station Id                  float64\n",
       "Start Station Latitude            float64\n",
       "Start Station Longitude           float64\n",
       "Tripduration               datetime64[ns]\n",
       "dtype: object"
      ]
     },
     "metadata": {},
     "execution_count": 66
    }
   ],
   "source": [
    "# 4. Check the datatypes of your columns. \n",
    "df.dtypes"
   ]
  },
  {
   "cell_type": "code",
   "execution_count": 67,
   "metadata": {},
   "outputs": [],
   "source": [
    "# 5. Export the Dataframe as a new CSV file without the index.\n",
    "df.to_csv(\"output/bikes.csv\")"
   ]
  }
 ],
 "metadata": {
  "kernelspec": {
   "name": "python3",
   "display_name": "Python 3.9.5 64-bit"
  },
  "language_info": {
   "codemirror_mode": {
    "name": "ipython",
    "version": 3
   },
   "file_extension": ".py",
   "mimetype": "text/x-python",
   "name": "python",
   "nbconvert_exporter": "python",
   "pygments_lexer": "ipython3",
   "version": "3.9.5"
  },
  "interpreter": {
   "hash": "247ab06e135bb35fa78c5eff31b2a9a0050dcb5fb773c2631d2a29ac689eeccb"
  }
 },
 "nbformat": 4,
 "nbformat_minor": 4
}